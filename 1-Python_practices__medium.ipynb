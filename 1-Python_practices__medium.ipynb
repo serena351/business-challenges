{
 "cells": [
  {
   "cell_type": "markdown",
   "id": "2b8b3639",
   "metadata": {},
   "source": [
    "## Python in practice -- MEDIUM\n",
    "\n",
    "<p style=\"text-align:center;\">\n",
    "<img src=\"https://github.com/digital-futures-academy/DataScienceMasterResources/blob/main/Resources/datascience-notebook-header.png?raw=true\"\n",
    "     alt=\"DigitalFuturesLogo\"\n",
    "     style=\"float: center; margin-right: 10px;\" />\n",
    "</p>\n"
   ]
  },
  {
   "cell_type": "markdown",
   "id": "ce41ab21",
   "metadata": {},
   "source": [
    "## Exercise 1 (MEDIUM)\n",
    "\n",
    "The tax system has been replaced with a shiny new bracket system in the country of Oongland, and you've been asked by your family to compute the total earnings you will have during the year. The tax brackets are as follow:\n",
    "\n",
    "0 - 15.000 Oonglian pounds: 0% tax (No tax)\n",
    "\n",
    "15.001 - 22.000 Oonglian pounds: 10% tax\n",
    "\n",
    "22.001 - 36.500 Oonglian pounds: 25% tax\n",
    "\n",
    "36.501+ Oonglian pounds: 40% tax\n",
    "\n",
    "There are two main aspects to note:\n",
    "\n",
    "1. The intervals are inclusive, eg: 15000 you get no tax, 22000 you get 10% tax etc\n",
    "2. The taxes are per bracket. Eg if you make 18000 you pay 0% for the first 15000 and 10% on the remaining 3000. This way, you are never penalized for entering a higher tax bracket.\n",
    "\n",
    "Can you help your family calculate the total yearly earnings? There are **4** family members, so you are to always receive **4** numbers.\n",
    "\n",
    "If an *invalid* input is detected (eg: string or list of more/fewer than 4 numbers), you should output: \"Invalid input\"\n",
    "\n",
    "**INPUT:** `list`\n",
    "\n",
    "**OUTPUT:** `float` (or `string` if invalid)"
   ]
  },
  {
   "cell_type": "markdown",
   "id": "844d1ed9",
   "metadata": {},
   "source": [
    "##### Tests to run\n",
    "\n",
    "```python\n",
    "earnings_calculator([16000, 32000, 25000])          # OUTPUT: Invalid input\n",
    "\n",
    "earnings_calculator('apple')                        # OUTPUT: Invalid input\n",
    "\n",
    "earnings_calculator([15000, 16000, 23000, 23500])   # OUTPUT: 75375.0\n",
    "\n",
    "earnings_calculator([50000, 15000, 15000, 43500])   # OUTPUT: 106650.0\n",
    "```"
   ]
  },
  {
   "cell_type": "code",
   "execution_count": 20,
   "id": "36328ec6",
   "metadata": {},
   "outputs": [],
   "source": [
    "def earnings_calculator(our_earnings):\n",
    "    earnings = [0, 0, 0, 0]\n",
    "    if len(our_earnings) != 4 or any(isinstance(inp, str) for inp in our_earnings):\n",
    "        return \"Invalid input\"\n",
    "    else:\n",
    "        for inp in range(len(our_earnings)):\n",
    "            if our_earnings[inp] < 15001:\n",
    "                earnings[inp] = our_earnings[inp]\n",
    "            elif our_earnings[inp] < 22001:\n",
    "                earnings[inp] = (our_earnings[inp]-15000)*0.9 + 15000\n",
    "            elif our_earnings[inp] < 36501:\n",
    "                earnings[inp] = (our_earnings[inp]-22000)*0.75 + (7000)*0.9 + 15000\n",
    "            else:\n",
    "                earnings[inp] = (our_earnings[inp]-36500)*0.6 + (14500)*0.75 + (7000)*0.9 + 15000\n",
    "        return float(sum(earnings))"
   ]
  },
  {
   "cell_type": "markdown",
   "id": "8be46f40",
   "metadata": {},
   "source": [
    "### Testing\n",
    "\n",
    "Your code will be tested against these tests when you push your code to your remote.  You may wish to create your own test files to run these - please DO NOT include these files in your commits!\n",
    "\n",
    "You will score 10 points for every test that your solution passes."
   ]
  },
  {
   "cell_type": "markdown",
   "id": "5f8620da",
   "metadata": {},
   "source": [
    "```python\n",
    "import unittest\n",
    "\n",
    "class Test_ExerciseOne(unittest.TestCase):\n",
    "    \n",
    "    def test_invalid(self):\n",
    "        self.assertEqual(earnings_calculator(''), \"Invalid input\")\n",
    "        self.assertEqual(earnings_calculator([89253, 1890, 66620, 77129, 10000]), \"Invalid input\")\n",
    "        self.assertEqual(earnings_calculator([15000, 18000, 22000, 'apple']), \"Invalid input\")\n",
    "    \n",
    "    def test_notax(self):\n",
    "        self.assertEqual(earnings_calculator([0,0,1000,2000]), 3000.0)\n",
    "        self.assertEqual(earnings_calculator([15000,15000,15000,15000]), 60000.0)\n",
    "    \n",
    "    def test_brackets(self):\n",
    "        self.assertEqual(earnings_calculator([16000, 29000, 53900, 33000]), 114615.0)\n",
    "        self.assertEqual(earnings_calculator([25000, 25000, 25000, 35000]), 101700.0)\n",
    "```"
   ]
  },
  {
   "cell_type": "markdown",
   "id": "d518d4e3",
   "metadata": {},
   "source": [
    "## On finishing this exercise\n",
    "\n",
    "When you have finished your work on this exercise, you should:\n",
    "\n",
    "1. Save your notebook\n",
    "2. Add and commit your changes using Git"
   ]
  },
  {
   "cell_type": "markdown",
   "id": "3925e7b5",
   "metadata": {},
   "source": [
    "---"
   ]
  },
  {
   "cell_type": "markdown",
   "id": "170e7050",
   "metadata": {},
   "source": [
    "## Exercise 2 (MEDIUM)\n",
    "\n",
    "To drive customer satisfaction up for your local mobile provider, the team came up with the idea of providing new customers who have just purchased a number with a fun fact about their number. Your shop provides only 2 types of numbers:\n",
    "\n",
    "- Business: `6` digits long, must start with a `0`\n",
    "\n",
    "- Classic: `9` or `10` digits long, must start with `07`\n",
    "\n",
    "For either type, when a customer activates their number they may receive one of the following messages:\n",
    "\n",
    "1. `\"Wow, your number contains all 10 digits!\"` -- if the phone number contains every 0-9 digit in any order.\n",
    "\n",
    "2. `\"Your number contains the digit {} at least 3 times!\"` -- if the phone number contains a single digit at least 3 times in any order. If the number has this property for multiple digits, you can output either of them.\n",
    "\n",
    "3. `\"You have a consecutive streak in your number ;)\"` -- if the phone number contains at least 3 consecutive digits. Eg 678. 0 is NOT considered as being consecutive after 9.\n",
    "\n",
    "4. `\"Your number is great!\"` -- if there are no interesting facts to report\n",
    "\n",
    "Additionally, regardless of the fun fact reported, you should always output : `\" You have a {} number.\"`, replacing `{}` with `business` or `classic`; at the end. If a number contains more than 1 fun fact, the first one identified (in the order 1 - 4 provided above) should be reported.\n",
    "\n",
    "If the number provided is invalid, you should return `\"Invalid number!\"`\n",
    "\n",
    "This is certain to put a smile on our client's faces when they activate their number :smiley:\n",
    "\n",
    "**INPUT:** `string`\n",
    "\n",
    "**OUTPUT:** `string`"
   ]
  },
  {
   "cell_type": "markdown",
   "id": "90cf6ed6",
   "metadata": {},
   "source": [
    "##### Tests to run\n",
    "\n",
    "```python\n",
    "check_number('198523')      # OUTPUT: \"Invalid number!\"\n",
    "\n",
    "check_number('089260')      # OUTPUT: \"Your number is great! You have a business number.\"\n",
    "\n",
    "check_number('090345')      # OUTPUT: \"You have a consecutive streak in your number ;) You have a business number.\"\n",
    "\n",
    "check_number('07289056231') # OUTPUT: \"Invalid number!\"\n",
    "\n",
    "check_number('0718649325')  # OUTPUT: \"Wow, your number contains all 10 digits! You have a classic number.\"\n",
    "\n",
    "check_number('071234555')   # OUTPUT: \"Your number contains the digit 5 at least 3 times! You have a classic number.\"\n",
    "\n",
    "check_number('0728901325')  # OUTPUT: \"Your number is great! You have a classic number.\"\n",
    "```"
   ]
  },
  {
   "cell_type": "code",
   "execution_count": 27,
   "id": "7effa95e",
   "metadata": {},
   "outputs": [],
   "source": [
    "def alldigits(number):\n",
    "    digits = set('0123456789')\n",
    "    return digits.issubset(set(number))"
   ]
  },
  {
   "cell_type": "code",
   "execution_count": 31,
   "id": "4d717af8",
   "metadata": {},
   "outputs": [],
   "source": [
    "def repeats(number):\n",
    "    count = {}\n",
    "    for digit in number:\n",
    "        if digit in count:\n",
    "            count[digit] += 1\n",
    "        else:\n",
    "            count[digit] = 1\n",
    "    for digit, cnt in count.items():\n",
    "        if cnt >= 3:\n",
    "            return digit\n",
    "    return False"
   ]
  },
  {
   "cell_type": "code",
   "execution_count": 34,
   "id": "6e7486b8",
   "metadata": {},
   "outputs": [],
   "source": [
    "def streaks(number):\n",
    "    for i in range(len(number)-2):\n",
    "        first = int(number[i])\n",
    "        second = int(number[i+1])\n",
    "        third = int(number[i+2])\n",
    "        if (second == first + 1 and third == second + 1) and not (first == 9 and second == 0):\n",
    "            return True\n",
    "    return False"
   ]
  },
  {
   "cell_type": "code",
   "execution_count": 39,
   "id": "40ea2750",
   "metadata": {},
   "outputs": [],
   "source": [
    "def check_number(number):\n",
    "    numtype = 'classic' if len(number) in (9, 10) else 'business'\n",
    "    if (len(number) not in (6,9,10)) or (not isinstance(number, str)) or (len(number) in (9,10) and number[:2] != '07') or (len(number) == 6 and number[0] != '0'):\n",
    "        return \"Invalid number!\" \n",
    "    elif alldigits(number):\n",
    "        return f\"Wow, your number contains all 10 digits! You have a {numtype} number.\"\n",
    "    elif repeats(number):\n",
    "        return f\"Your number contains the digit {repeats(number)} at least 3 times! You have a {numtype} number.\"\n",
    "    elif streaks(number):\n",
    "        return f\"You have a consecutive streak in your number ;) You have a {numtype} number.\"\n",
    "    else:\n",
    "        return f\"Your number is great! You have a {numtype} number.\""
   ]
  },
  {
   "cell_type": "markdown",
   "id": "84730451",
   "metadata": {},
   "source": [
    "### Testing\n",
    "\n",
    "Your code will be tested against these tests when you push your code to your remote.  You may wish to create your own test files to run these - please DO NOT include these files in your commits!\n",
    "\n",
    "You will score 10 points for every test that your solution passes."
   ]
  },
  {
   "cell_type": "markdown",
   "id": "8cc6aa83",
   "metadata": {},
   "source": [
    "```python\n",
    "import unittest\n",
    "\n",
    "class Test_ExerciseTwo(unittest.TestCase):\n",
    "    \n",
    "    def test_invalid(self):\n",
    "        self.assertEqual(check_number([7623]), \"Invalid number!\")\n",
    "        self.assertEqual(check_number('0896231'), \"Invalid number!\")\n",
    "        self.assertEqual(check_number('0628792690'), \"Invalid number!\")\n",
    "    \n",
    "    def test_generic(self):\n",
    "        self.assertEqual(check_number('067982'), \"Your number is great! You have a business number.\")\n",
    "        self.assertEqual(check_number('099882'), \"Your number is great! You have a business number.\")\n",
    "        self.assertEqual(check_number('072358811'), \"Your number is great! You have a classic number.\")\n",
    "        self.assertEqual(check_number('0764321690'), \"Your number is great! You have a classic number.\")\n",
    "        \n",
    "    def test_digits(self):\n",
    "        self.assertEqual(check_number('0712345698'), \"Wow, your number contains all 10 digits! You have a classic number.\")\n",
    "        self.assertEqual(check_number('0784215963'), \"Wow, your number contains all 10 digits! You have a classic number.\")\n",
    "        \n",
    "    def test_repeat(self):\n",
    "        self.assertEqual(check_number('055456'), \"Your number contains the digit 5 at least 3 times! You have a business number.\")\n",
    "        self.assertEqual(check_number('079908629'), \"Your number contains the digit 9 at least 3 times! You have a classic number.\")\n",
    "        \n",
    "    def test_streak(self):\n",
    "        self.assertEqual(check_number('022789'), \"You have a consecutive streak in your number ;) You have a business number.\")\n",
    "        self.assertEqual(check_number('0719073456'), \"You have a consecutive streak in your number ;) You have a classic number.\")\n",
    "        self.assertEqual(check_number('075212399'), \"You have a consecutive streak in your number ;) You have a classic number.\")\n",
    "```"
   ]
  },
  {
   "cell_type": "markdown",
   "id": "1a5d4f88",
   "metadata": {},
   "source": [
    "## On finishing this exercise\n",
    "\n",
    "When you have finished your work on this exercise, you should:\n",
    "\n",
    "1. Save your notebook\n",
    "2. Add and commit your changes using Git"
   ]
  },
  {
   "cell_type": "markdown",
   "id": "99158bb6",
   "metadata": {},
   "source": [
    "---"
   ]
  },
  {
   "cell_type": "markdown",
   "id": "fae02e0e",
   "metadata": {},
   "source": [
    "## Exercise 3 (MEDIUM)\n",
    "\n",
    "You're in charge of generating data in a data warehouse based on inputs received from another source. In particular, you've been tasked with handling customer details in the form of generating a username for them based on 2 simple aspects: Their full name and their birth year. Suppose for simplicity that all users only use 1 first name and 1 surname.\n",
    "\n",
    "What you receive from the source is their full name, in a tuple (firstname, lastname) format, and their birth year as an integer. The values accepted are between 1911 and 2010, inclusive. The username generating method is simple:\n",
    "\n",
    "- `firstname`: You only take the first letter, as uppercase\n",
    "- You add an underscore separator\n",
    "- `lastname`: You keep it as it is, except lowercase\n",
    "- `birth_year`: You add the final 2 digits of the birth year.\n",
    "\n",
    "Here are some examples: `[(Haskell, Covus), 1982]` : The generated username: `H_covus82`\n",
    "\n",
    "`[(Franz, Manzo), 1958]` : The generated username` F_manzo58`\n",
    "\n",
    "There are 2 additional complications.\n",
    "\n",
    "> 1. Sometimes, usernames may overlap. For example **Ana Smith** born in **1990** and **Anastasia Smith** also born in **1990** would both have the username `A_smith90`. To avoid this, the system will send, if needed, an integer value in case the original username was already in the system. \n",
    "\n",
    "That is: If `A_smith90` was already in the system, you would instead receive the complete input:\n",
    "`[(Anastasia, Smith), 1990, 27]`. Adding *another underscore* in between, this would generate the username: `A_smith90_27`. You need not worry about username duplication, since the input will only send an additional integer (between 0 and 99 inclusive) if needed.\n",
    "\n",
    "\n",
    "> 2. While the system works as intended, it sometimes shuffles the inputs...\n",
    "\n",
    "You ALWAYS receive 1 tuple of (`firstname`, `lastname`) and 1 *integer* between *1911 - 2010* (and *sometimes* a 3rd element, an *integer* between *0* and *99*) inside a list, but you don't always receive them in the same order. That is, the following inputs are all valid:\n",
    "\n",
    "`[(Anastasia, Smith), 1990, 27]`\n",
    "\n",
    "`[1990, 27, (Anastasia, Smith)]`\n",
    "\n",
    "`[27, (Anastasia, Smith), 1990] `\n",
    "\n",
    "They generate the same username: `A_smith90_27`. The 2 (or 3) inputs are always generated inside a list, always in the tuple-integer (integer) format; except in random order.\n",
    "\n",
    "Can you help generate usernames for all customers? (You need not handle invalid inputs, the data source sending the inputs is already clean)\n",
    "\n",
    "**INPUT:** `list` (of 2 or 3 elements)\n",
    "\n",
    "**OUTPUT:** `string`"
   ]
  },
  {
   "cell_type": "markdown",
   "id": "81ef5c66",
   "metadata": {},
   "source": [
    "##### Tests to run\n",
    "\n",
    "```python\n",
    "username_generator([('Bob', 'Vasso'), 1979])        # OUTPUT: B_vasso79\n",
    "\n",
    "username_generator([1999, ('Ann', 'Kathria')]       # OUTPUT: A_kathria99\n",
    "\n",
    "username_generator([('Vlad', 'Hoppings'), 2002, 4]) # OUTPUT: V_hoppings02_4\n",
    "\n",
    "username_generator([72, ('Mark', 'Webber'), 1976])  # OUTPUT: M_webber76_72\n",
    "```"
   ]
  },
  {
   "cell_type": "code",
   "execution_count": 68,
   "id": "16cdf542",
   "metadata": {},
   "outputs": [],
   "source": [
    "def username_generator(customer_details):\n",
    "    for detail in customer_details:\n",
    "        if type(detail) == tuple:\n",
    "            fullname = detail\n",
    "        elif type(detail) == int and len(str(detail)) == 4:\n",
    "            year = str(detail)[2:]\n",
    "        elif type(detail) == int and len(str(detail)) != 4:\n",
    "            dup = str(detail)\n",
    "    if len(customer_details) == 3:\n",
    "        details = (fullname[0][0], (fullname[1].lower()+year), dup)\n",
    "    else: \n",
    "        details = (fullname[0][0], (fullname[1].lower()+year))\n",
    "    user = '_'.join(details)\n",
    "    return user"
   ]
  },
  {
   "cell_type": "markdown",
   "id": "c2b33637",
   "metadata": {},
   "source": [
    "### Testing\n",
    "\n",
    "Your code will be tested against these tests when you push your code to your remote.  You may wish to create your own test files to run these - please DO NOT include these files in your commits!\n",
    "\n",
    "You will score 10 points for every test that your solution passes."
   ]
  },
  {
   "cell_type": "markdown",
   "id": "2a21facf",
   "metadata": {},
   "source": [
    "```python\n",
    "import unittest\n",
    "\n",
    "class Test_ExerciseThree(unittest.TestCase):\n",
    "    \n",
    "    def test_simple(self):\n",
    "        self.assertEqual(function([('Kelly', 'Kotse'), 1995]), \"K_kotse95\")\n",
    "        self.assertEqual(username_generator([('Cooper', 'Muipo'), 1972]), \"C_muipo72\")\n",
    "        \n",
    "    def test_dup(self):\n",
    "        self.assertEqual(username_generator([('Ferdy', 'Phones'), 1984, 52]), \"F_phones84_52\")\n",
    "        self.assertEqual(username_generator([('Karl', 'Mings'), 2010, 6]), \"K_mings10_6\")\n",
    "        \n",
    "    def test_swaps(self):\n",
    "        self.assertEqual(username_generator([1911, ('Valerion', 'Lindz')]), \"V_lindz11\")\n",
    "        self.assertEqual(username_generator([1999, 99, ('Kort', 'Elisan')]), \"K_elisan99_99\")\n",
    "        self.assertEqual(username_generator([('Tyrion', 'Axel'), 12, 2007]), \"T_axel07_12\")\n",
    "        self.assertEqual(username_generator([0, ('Yuri', 'Heverin'), 1992]), \"Y_heverin92_0\")\n",
    "```"
   ]
  },
  {
   "cell_type": "markdown",
   "id": "58f0e9ab",
   "metadata": {},
   "source": [
    "## On finishing this exercise\n",
    "\n",
    "When you have finished your work on this exercise, you should:\n",
    "\n",
    "1. Save your notebook\n",
    "2. Add and commit your changes using Git\n",
    "3. Push to your remote repository - this will begin the automated grading process\n",
    "\n",
    "You can visit your repository on GitHub to see the results of the tests."
   ]
  },
  {
   "cell_type": "markdown",
   "id": "996ce8f7",
   "metadata": {},
   "source": [
    "---"
   ]
  }
 ],
 "metadata": {
  "kernelspec": {
   "display_name": "Python 3",
   "language": "python",
   "name": "python3"
  },
  "language_info": {
   "codemirror_mode": {
    "name": "ipython",
    "version": 3
   },
   "file_extension": ".py",
   "mimetype": "text/x-python",
   "name": "python",
   "nbconvert_exporter": "python",
   "pygments_lexer": "ipython3",
   "version": "3.11.9"
  },
  "nteract": {
   "version": "0.28.0"
  }
 },
 "nbformat": 4,
 "nbformat_minor": 5
}

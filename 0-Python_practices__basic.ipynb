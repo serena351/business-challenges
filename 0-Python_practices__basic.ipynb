{
 "cells": [
  {
   "cell_type": "markdown",
   "id": "cd9d7399",
   "metadata": {},
   "source": [
    "## Python in practice -- BASIC\n",
    "\n",
    "<p style=\"text-align:center;\">\n",
    "<img src=\"https://github.com/digital-futures-academy/DataScienceMasterResources/blob/main/Resources/datascience-notebook-header.png?raw=true\"\n",
    "     alt=\"DigitalFuturesLogo\"\n",
    "     style=\"float: center; margin-right: 10px;\" />\n",
    "</p>\n"
   ]
  },
  {
   "cell_type": "markdown",
   "id": "864041bc",
   "metadata": {},
   "source": [
    "## Exercise 1 (BASIC)\n",
    "\n",
    "BrightStart has hired you to devise a simple calculator where kids can place all their inputs at once to perform a chosen operation. This allows them to easily interact with numbers from an early age and learn about the 4 main operations: addition, subtraction, multiplication and division!\n",
    "\n",
    "What they have to provide is a list of numbers, as well as one of the 4 keywords: \"multiply\", \"divide\", \"add\" or \"subtract\" and your function takes care of the rest! The operations always start from the first item in the list down to the last, so for example:\n",
    "\n",
    "`([60, 20, 15], \"subtract\")` is `60-20-15 = 25` whereas\n",
    "\n",
    "`([120, 2, 15], \"divide\")` is `120/2/15 = 4`\n",
    "\n",
    "**INPUT:** 1 `list`, 1 `string`\n",
    "\n",
    "**OUTPUT:** `integer` or `float`"
   ]
  },
  {
   "cell_type": "markdown",
   "id": "c40ff00a",
   "metadata": {},
   "source": [
    "##### Tests to run\n",
    "\n",
    "```python\n",
    "calculator([0, 2], \"add\")                   # OUTPUT: 2\n",
    "\n",
    "calculator([50, 20, -5, 70], \"subtract\")    # OUTPUT: -35\n",
    "\n",
    "calculator([40,20,4], \"divide\")             # OUTPUT: 0.5\n",
    "\n",
    "calculator([8, 1, -1, -2, 5], \"multiply\")   # OUTPUT: 80\n",
    "```"
   ]
  },
  {
   "cell_type": "code",
   "execution_count": 18,
   "id": "dcbda6c4",
   "metadata": {},
   "outputs": [],
   "source": [
    "def calculator(numbers, operation):\n",
    "    if operation == 'add':\n",
    "        return sum(numbers)\n",
    "    elif operation == 'subtract':\n",
    "        return numbers[0] - sum(numbers [1:]) \n",
    "    elif operation == 'divide':\n",
    "        result = numbers[0]\n",
    "        for i in range(1,len(numbers)):\n",
    "            result = result / numbers[i]\n",
    "        return result\n",
    "    elif operation == 'multiply':\n",
    "        product = 1\n",
    "        for num in numbers:\n",
    "            product = product * num\n",
    "        return product "
   ]
  },
  {
   "cell_type": "markdown",
   "id": "485607dd",
   "metadata": {},
   "source": [
    "### Testing\n",
    "\n",
    "Your code will be tested against these tests when you push your code to your remote.  You may wish to create your own test files to run these - please DO NOT include these files in your commits!\n",
    "\n",
    "You will score 10 points for every test that your solution passes."
   ]
  },
  {
   "cell_type": "markdown",
   "id": "8cfa2d6e",
   "metadata": {},
   "source": [
    "```python\n",
    "import unittest\n",
    "\n",
    "class Test_ExerciseOne(unittest.TestCase):\n",
    "    \n",
    "    def test_add(self):\n",
    "        self.assertEqual(calculator([7,12,-9], \"add\"), 10)\n",
    "        self.assertEqual(calculator([10,5,5,25,7], \"add\"), 52)\n",
    "        \n",
    "    def test_sub(self):\n",
    "        self.assertEqual(calculator([10,8], \"subtract\"), 2)\n",
    "        self.assertEqual(calculator([50,50,50,-50,7,-7], \"subtract\"), 0)\n",
    "    \n",
    "    def test_mult(self):\n",
    "        self.assertEqual(calculator([8,2,5,1,2], \"multiply\"), 160)\n",
    "        self.assertEqual(calculator([-2, 1, -1, 1, -10], \"multiply\"), -20)\n",
    "        \n",
    "    def test_div(self):\n",
    "        self.assertEqual(calculator([36,3,2,2], \"divide\"), 3.0)\n",
    "        self.assertEqual(calculator([0,100,63,-17], \"divide\"), 0.0)\n",
    "```"
   ]
  },
  {
   "cell_type": "markdown",
   "id": "1918e81a",
   "metadata": {},
   "source": [
    "## On finishing this exercise\n",
    "\n",
    "When you have finished your work on this exercise, you should:\n",
    "\n",
    "1. Save your notebook\n",
    "2. Add and commit your changes using Git"
   ]
  },
  {
   "cell_type": "markdown",
   "id": "38c14e13",
   "metadata": {},
   "source": [
    "---"
   ]
  },
  {
   "cell_type": "markdown",
   "metadata": {},
   "source": [
    "## Exercise 2 (BASIC)\n",
    "\n",
    "You're performing some informal data collection on colleagues from your company who are willing to attend the upcoming team building workshop. As such, they only need to submit their preferred first name and their decision:\n",
    "\n",
    "'T' - Tentative\n",
    "\n",
    "'A' - Accept\n",
    "\n",
    "'D' - Decline\n",
    "\n",
    "Your first task is to check that their name is in the correct format, i.e. if it starts with a capital letter and everything else is lowercase. If it isn't, regardless of their decision (T/A/D), you should output: \"Did you mean {}?\" replacing {} with their corrected name. (But only if it is wrong!)\n",
    "\n",
    "Eg: `'AlEx', 'T'` -- OUTPUT: `Did you mean Alex?`\n",
    "\n",
    "If it isn't wrong, then you should greet them with a message based on their response. If they decided:\n",
    "\n",
    "`'T'` : You should output `\"We hope to see you there, {name}!\"`\n",
    "\n",
    "`'A'` : You should output `\"Can't wait, {name}!\"`\n",
    "\n",
    "`'D'` : You should output `\"Hope you can make it next time, {name}!\"`\n",
    "\n",
    "\n",
    "Collect all the information before the event, and let's hope everyone can make it!\n",
    "\n",
    "**INPUT:** 2 `strings`\n",
    "\n",
    "**OUTPUT:** 1 `string`"
   ]
  },
  {
   "cell_type": "markdown",
   "id": "dc7d4110",
   "metadata": {},
   "source": [
    "##### Tests to run\n",
    "\n",
    "```python\n",
    "format_checker('MelindA', 'A')  # OUTPUT: Did you mean Melinda?\n",
    "\n",
    "format_checker('anthony', 'D')  # OUTPUT: Did you mean Anthony?\n",
    "\n",
    "format_checker('Philip', 'T')   # OUTPUT: We hope to see you there, Philip!\n",
    "\n",
    "format_checker('Adrian', 'D')   # OUTPUT: Hope you can make it next time, Adrian!\n",
    "\n",
    "format_checker('Mary', 'A')     # OUTPUT: Can't wait, Mary!\n",
    "```"
   ]
  },
  {
   "cell_type": "code",
   "execution_count": 94,
   "id": "f8ca17af",
   "metadata": {},
   "outputs": [],
   "source": [
    "def format_checker(name, decision):\n",
    "    if name.istitle():\n",
    "        if decision == 'T':\n",
    "            return f\"We hope to see you there, {name}!\"  \n",
    "        elif decision == 'A':\n",
    "            return f\"Can't wait, {name}!\"\n",
    "        elif decision == 'D':\n",
    "            return f\"Hope you can make it next time, {name}!\"\n",
    "    else:\n",
    "        return f\"Did you mean {(name.lower()).title()}?\""
   ]
  },
  {
   "cell_type": "markdown",
   "id": "9c32fb7b",
   "metadata": {},
   "source": [
    "### Testing\n",
    "\n",
    "Your code will be tested against these tests when you push your code to your remote.  You may wish to create your own test files to run these - please DO NOT include these files in your commits!\n",
    "\n",
    "You will score 10 points for every test that your solution passes."
   ]
  },
  {
   "cell_type": "markdown",
   "id": "ae6d0ce0",
   "metadata": {},
   "source": [
    "```python\n",
    "import unittest\n",
    "\n",
    "class Test_ExerciseTwo(unittest.TestCase):\n",
    "    \n",
    "    def test_invalid(self):\n",
    "        self.assertEqual(format_checker('MoHHammed', 'T'), \"Did you mean Mohhammed?\")\n",
    "        self.assertEqual(format_checker('ann', 'T'), \"Did you mean Ann?\")\n",
    "        \n",
    "    def test_tent(self):\n",
    "        self.assertEqual(format_checker('Yuri', 'T'), \"We hope to see you there, Yuri!\")\n",
    "        \n",
    "    def test_acc(self):\n",
    "        self.assertEqual(format_checker('Diana', 'A'), \"Can't wait, Diana!\")\n",
    "        \n",
    "    def test_deny(self):\n",
    "        self.assertEqual(format_checker('Jasmine', 'D'), \"Hope you can make it next time, Jasmine!\")\n",
    "```"
   ]
  },
  {
   "cell_type": "markdown",
   "id": "6b4d6dfc",
   "metadata": {},
   "source": [
    "## On finishing this exercise\n",
    "\n",
    "When you have finished your work on this exercise, you should:\n",
    "\n",
    "1. Save your notebook\n",
    "2. Add and commit your changes using Git"
   ]
  },
  {
   "cell_type": "markdown",
   "id": "905e0402",
   "metadata": {},
   "source": [
    "---"
   ]
  },
  {
   "cell_type": "markdown",
   "id": "3dd898e4",
   "metadata": {},
   "source": [
    "## Exercise 3 (BASIC)\n",
    "\n",
    "For your company's new campaign, the board director is looking for a trendy name to advertise their newest product, so they've asked their team to come up with plenty and they've asked _you_ to review them. Being a Python enthusiast however, you've decided to write an algorithm to take care of the tedious work for you :smiley:\n",
    "\n",
    "The company suggests a couple of policies for naming products, which will be your criteria for judging and giving a score to each name. Firstly, each name starts with a base score of 80.\n",
    "\n",
    "1. It's been observed that catchy names usually contain uppercase letters. \n",
    "   - If there are **up to 3 (inclusive)**, you would give the score a +5 for each uppercase letter -- but \n",
    "   - If there are **more than 3**, that's likely too much and you wouldn't give it any score for any of them.\n",
    "\n",
    "\n",
    "2. Catchy names are relatively short, but not ridiculously so. A good name sits between 4 and 10 characters long, inclusive.\n",
    "   -If the name is anywhere outside of this interval, you should penalize it by 3 points per extra/missing letter. Eg: a 13 letter name gets a -9, a 2 letter name gets a -6.\n",
    "\n",
    "\n",
    "3. Catchy names don't contain special characters, apart from '!' or '?'. Outside those two, any special character should be penalized with a -5 to the score.\n",
    "\n",
    "\n",
    "4. Lastly, the letters that best market products have been observed as X,Y,Z,Q and V, as well as their lowercase variants. For each such letter, the score should increase by a +2.\n",
    "\n",
    "\n",
    "Your algorithm should return a total score for the name proposed, which should help you choose the best one without needing to go through them yourself. Coding power!\n",
    "\n",
    "\n",
    "**INPUT:** `string`\n",
    "\n",
    "**OUTPUT:** `int`"
   ]
  },
  {
   "cell_type": "markdown",
   "id": "40c2e59b",
   "metadata": {},
   "source": [
    "##### Tests to run\n",
    "\n",
    "```python\n",
    "name_scorer('AquaQuark')        # OUTPUT: 94\n",
    "\n",
    "name_scorer('Hello&&!!')        # OUTPUT: 75\n",
    "\n",
    "name_scorer('applebackshorse')  # OUTPUT: 65\n",
    "\n",
    "name_scorer('AsIGoFarther')     # OUTPUT: 74\n",
    "```"
   ]
  },
  {
   "cell_type": "code",
   "execution_count": 4,
   "id": "807ac700",
   "metadata": {},
   "outputs": [],
   "source": [
    "# count the number of uppercase letters\n",
    "def num_isupper(str):\n",
    "    return sum(1 for char in str if char.isupper())"
   ]
  },
  {
   "cell_type": "code",
   "execution_count": 10,
   "id": "1c3f9411",
   "metadata": {},
   "outputs": [],
   "source": [
    "# count the number of special characters, other than ? and !\n",
    "# count the number of occurrences of xyzqv\n",
    "def num_sc(string, chars=[]): \n",
    "    count = 0 \n",
    "    for char in string: \n",
    "        if char in chars: \n",
    "            count += 1 \n",
    "    return count "
   ]
  },
  {
   "cell_type": "code",
   "execution_count": 11,
   "id": "c9342d5b",
   "metadata": {},
   "outputs": [],
   "source": [
    "def name_scorer(name):\n",
    "    score = 80\n",
    "    if len(name) < 4:\n",
    "        score -= 3*(4 - len(name))\n",
    "    elif len(name) > 10:\n",
    "        score -= 3*(len(name) - 10)\n",
    "    if num_isupper(name) <= 3:\n",
    "        score += 5*num_isupper(name)\n",
    "    if num_sc(name, \"\\\"£$%&/()='^+*[]{}#@-_.:,;\") > 0:\n",
    "        score -= 5 * (num_sc(name, \"\\\"£$%&/()='^+*[]{}#@-_.:,;\"))\n",
    "    if num_sc(name, 'XYZQVxyzqv') > 0:\n",
    "        score += 2 * (num_sc(name, 'XYZQVxyzqv'))\n",
    "    return score"
   ]
  },
  {
   "cell_type": "markdown",
   "id": "9373f2c9",
   "metadata": {},
   "source": [
    "### Testing\n",
    "\n",
    "Your code will be tested against these tests when you push your code to your remote.  You may wish to create your own test files to run these - please DO NOT include these files in your commits!\n",
    "\n",
    "You will score 10 points for every test that your solution passes."
   ]
  },
  {
   "cell_type": "markdown",
   "id": "3d650e28",
   "metadata": {},
   "source": [
    "```python\n",
    "import unittest\n",
    "\n",
    "class Test_ExerciseThree(unittest.TestCase):\n",
    "    \n",
    "    def test_basics(self):\n",
    "        self.assertEqual(name_scorer('maybe?'), 82)\n",
    "        self.assertEqual(name_scorer('name'), 80)\n",
    "        \n",
    "    def test_upps(self):\n",
    "        self.assertEqual(name_scorer('HiHiIndie'), 95)\n",
    "        self.assertEqual(name_scorer('MENACE!'), 80)\n",
    "        self.assertEqual(name_scorer('kolaUp'), 85)\n",
    "        \n",
    "    def test_length(self):\n",
    "        self.assertEqual(name_scorer('ol'), 74)\n",
    "        self.assertEqual(name_scorer('underworldexperience'), 52)\n",
    "        \n",
    "    def test_special(self):\n",
    "        self.assertEqual(name_scorer('TheXYZgame'), 86)\n",
    "        self.assertEqual(name_scorer('Thexyzgame'), 91)\n",
    "        self.assertEqual(name_scorer('theXYZgame'), 101)\n",
    "        \n",
    "    def test_chars(self):\n",
    "        self.assertEqual(name_scorer('Awesome!!'), 85)\n",
    "        self.assertEqual(name_scorer('&@$&*@!#?'), 45)\n",
    "```"
   ]
  },
  {
   "cell_type": "markdown",
   "id": "538e7bcc",
   "metadata": {},
   "source": [
    "## On finishing this exercise\n",
    "\n",
    "When you have finished your work on this exercise, you should:\n",
    "\n",
    "1. Save your notebook\n",
    "2. Add and commit your changes using Git\n",
    "3. Push to your remote repository - this will begin the automated grading process\n",
    "\n",
    "You can visit your repository on GitHub to see the results of the tests.\n",
    "\n",
    "---"
   ]
  }
 ],
 "metadata": {
  "kernelspec": {
   "display_name": "Python 3",
   "language": "python",
   "name": "python3"
  },
  "language_info": {
   "codemirror_mode": {
    "name": "ipython",
    "version": 3
   },
   "file_extension": ".py",
   "mimetype": "text/x-python",
   "name": "python",
   "nbconvert_exporter": "python",
   "pygments_lexer": "ipython3",
   "version": "3.11.9"
  },
  "nteract": {
   "version": "0.28.0"
  }
 },
 "nbformat": 4,
 "nbformat_minor": 5
}
